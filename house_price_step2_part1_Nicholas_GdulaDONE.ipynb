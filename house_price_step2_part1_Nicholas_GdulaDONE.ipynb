{
 "cells": [
  {
   "cell_type": "code",
   "execution_count": 20,
   "id": "8cd2b56c",
   "metadata": {},
   "outputs": [],
   "source": [
    "import numpy as np\n",
    "import matplotlib.pyplot as plt\n",
    "import pandas as pd\n",
    "from sklearn.model_selection import train_test_split\n",
    "from sklearn.preprocessing import MinMaxScaler"
   ]
  },
  {
   "cell_type": "code",
   "execution_count": 21,
   "id": "fa3b5581",
   "metadata": {},
   "outputs": [],
   "source": [
    "#LOAD DATA\n",
    "Test = pd.read_csv('housing_test_clean.csv')\n",
    "Train = pd.read_csv('housing_train_clean.csv')"
   ]
  },
  {
   "cell_type": "code",
   "execution_count": 22,
   "id": "1c4537b6",
   "metadata": {},
   "outputs": [],
   "source": [
    "X_train=Train.copy()\n",
    "X_train.drop(['SalePrice'], axis=1, inplace=True)\n",
    "Y_train=Train[['SalePrice']].copy()\n",
    "X_test=Test.copy()\n",
    "X_test.drop(['SalePrice'], axis=1, inplace=True)\n",
    "Y_test=Test[['SalePrice']].copy()"
   ]
  },
  {
   "cell_type": "code",
   "execution_count": 23,
   "id": "4dae22d7",
   "metadata": {},
   "outputs": [],
   "source": [
    "#CONVERT TO NUMPY\n",
    "X_train=X_train.values\n",
    "Y_train=Y_train.values.reshape(-1)\n",
    "X_test=X_test.values\n",
    "Y_test=Y_test.values.reshape(-1)"
   ]
  },
  {
   "cell_type": "code",
   "execution_count": 24,
   "id": "dbefb3d9",
   "metadata": {},
   "outputs": [],
   "source": [
    "scaler=MinMaxScaler()\n",
    "X_train_s = scaler.fit_transform(X_train)\n",
    "X_test_s = scaler.transform(X_test)"
   ]
  },
  {
   "cell_type": "code",
   "execution_count": 25,
   "id": "f1fbf17a",
   "metadata": {},
   "outputs": [
    {
     "name": "stdout",
     "output_type": "stream",
     "text": [
      "KNNMSE= 1427902412.5182247\n",
      "KNNMAE= 22995.33351658515\n",
      "KNNMAPE= 0.129753451276978\n"
     ]
    }
   ],
   "source": [
    "#KNN\n",
    "from sklearn.neighbors import KNeighborsRegressor\n",
    "\n",
    "# build a KNN regressor\n",
    "KNNmodel = KNeighborsRegressor(n_neighbors = 5)\n",
    "# train the KNN regressor\n",
    "KNNmodel.fit(X_train_s, Y_train)\n",
    "# test the KNN regressor\n",
    "Y_test_pred = KNNmodel.predict(X_test_s)\n",
    "# Calculate errors\n",
    "\n",
    "KNNMSE = np.mean((Y_test - Y_test_pred)**2)\n",
    "KNNMAE = np.mean(np.abs(Y_test - Y_test_pred))\n",
    "KNNMAPE =  np.mean(np.abs(Y_test - Y_test_pred)/Y_test)\n",
    "print('KNNMSE=', KNNMSE)\n",
    "print('KNNMAE=', KNNMAE)\n",
    "print('KNNMAPE=', KNNMAPE)"
   ]
  },
  {
   "cell_type": "code",
   "execution_count": 12,
   "id": "3b514242",
   "metadata": {},
   "outputs": [
    {
     "data": {
      "text/plain": [
       "[<matplotlib.lines.Line2D at 0x7fd0a6f1ff10>]"
      ]
     },
     "execution_count": 12,
     "metadata": {},
     "output_type": "execute_result"
    },
    {
     "data": {
      "image/png": "[encoded data removed]",
      "text/plain": [
       "<Figure size 432x288 with 1 Axes>"
      ]
     },
     "metadata": {
      "needs_background": "light"
     },
     "output_type": "display_data"
    }
   ],
   "source": [
    "fig, ax = plt.subplots()\n",
    "x_45_degree_line=np.linspace(0, Y_test.max(), 100)\n",
    "x_45_degree_line=np.linspace(0, Y_test.max(), 100)\n",
    "ax.plot(x_45_degree_line, x_45_degree_line, '-r')\n",
    "ax.plot(Y_test, Y_test_pred, '.b')"
   ]
  },
  {
   "cell_type": "code",
   "execution_count": 28,
   "id": "ec143b2e",
   "metadata": {},
   "outputs": [
    {
     "name": "stdout",
     "output_type": "stream",
     "text": [
      "LMMSE= 3.8781417673388485e+31\n",
      "LMMAE= 4035445006626580.0\n",
      "LMMAPE= 30522984595.83681\n"
     ]
    }
   ],
   "source": [
    "#LINEARREGRESSION\n",
    "from sklearn.linear_model import LinearRegression\n",
    "\n",
    "Linearmodel = LinearRegression()\n",
    "Linearmodel.fit(X_train_s, Y_train)\n",
    "# test the regressor\n",
    "Y_test_pred = Linearmodel.predict(X_test_s)\n",
    "# Calculate errors\n",
    "\n",
    "LMMSE = np.mean((Y_test - Y_test_pred)**2)\n",
    "LMMAE = np.mean(np.abs(Y_test - Y_test_pred))\n",
    "LMMAPE =  np.mean(np.abs(Y_test - Y_test_pred)/Y_test)\n",
    "print('LMMSE=', LMMSE)\n",
    "print('LMMAE=', LMMAE)\n",
    "print('LMMAPE=', LMMAPE)"
   ]
  },
  {
   "cell_type": "code",
   "execution_count": 27,
   "id": "782a52ae",
   "metadata": {},
   "outputs": [
    {
     "data": {
      "text/plain": [
       "[<matplotlib.lines.Line2D at 0x7fd091fc1220>]"
      ]
     },
     "execution_count": 27,
     "metadata": {},
     "output_type": "execute_result"
    },
    {
     "data": {
      "image/png": "[encoded data removed]",
      "text/plain": [
       "<Figure size 432x288 with 1 Axes>"
      ]
     },
     "metadata": {
      "needs_background": "light"
     },
     "output_type": "display_data"
    }
   ],
   "source": [
    "fig, ax = plt.subplots()\n",
    "x_45_degree_line=np.linspace(0, Y_test.max(), 100)\n",
    "x_45_degree_line=np.linspace(0, Y_test.max(), 100)\n",
    "ax.plot(x_45_degree_line, x_45_degree_line, '-r')\n",
    "ax.plot(Y_test, Y_test_pred, '.b')"
   ]
  },
  {
   "cell_type": "code",
   "execution_count": 15,
   "id": "2fea66f6",
   "metadata": {},
   "outputs": [
    {
     "name": "stdout",
     "output_type": "stream",
     "text": [
      "DTMSE= 22817727283.544144\n",
      "DTMAE= 128153.66125336647\n",
      "DTMAPE= 0.6712766856373678\n"
     ]
    }
   ],
   "source": [
    "#DECISIONTREE \n",
    "\n",
    "from sklearn.tree import DecisionTreeRegressor\n",
    "Treemodel = DecisionTreeRegressor()\n",
    "Treemodel.fit(X_train, Y_train)\n",
    "# test the regressor\n",
    "Y_test_pred = Treemodel.predict(X_test_s)\n",
    "# Calculate errors\n",
    "\n",
    "DTMSE = np.mean((Y_test - Y_test_pred)**2)\n",
    "DTMAE = np.mean(np.abs(Y_test - Y_test_pred))\n",
    "DTMAPE =  np.mean(np.abs(Y_test - Y_test_pred)/Y_test)\n",
    "print('DTMSE=', DTMSE)\n",
    "print('DTMAE=', DTMAE)\n",
    "print('DTMAPE=', DTMAPE)\n",
    "\n",
    "\n"
   ]
  },
  {
   "cell_type": "code",
   "execution_count": 16,
   "id": "4d1e7aa1",
   "metadata": {},
   "outputs": [
    {
     "data": {
      "text/plain": [
       "[<matplotlib.lines.Line2D at 0x7fd0ab69b280>]"
      ]
     },
     "execution_count": 16,
     "metadata": {},
     "output_type": "execute_result"
    },
    {
     "data": {
      "image/png": "[encoded data removed]",
      "text/plain": [
       "<Figure size 432x288 with 1 Axes>"
      ]
     },
     "metadata": {
      "needs_background": "light"
     },
     "output_type": "display_data"
    }
   ],
   "source": [
    "fig, ax = plt.subplots()\n",
    "x_45_degree_line=np.linspace(0, Y_test.max(), 100)\n",
    "x_45_degree_line=np.linspace(0, Y_test.max(), 100)\n",
    "ax.plot(x_45_degree_line, x_45_degree_line, '-r')\n",
    "ax.plot(Y_test, Y_test_pred, '.b')"
   ]
  },
  {
   "cell_type": "code",
   "execution_count": 17,
   "id": "7fd87a36",
   "metadata": {},
   "outputs": [
    {
     "name": "stdout",
     "output_type": "stream",
     "text": [
      "RFMSE= 584689830.5908341\n",
      "RFMAE= 10864.28582893662\n",
      "RFMAPE= 0.06217387332234633\n"
     ]
    }
   ],
   "source": [
    "#RANDOMFOREST\n",
    "\n",
    "from sklearn.ensemble import RandomForestRegressor\n",
    "RFmodel = RandomForestRegressor(n_estimators=100)\n",
    "RFmodel.fit(X_train, Y_train)\n",
    "Y_test_pred = RFmodel.predict(X_test)\n",
    "RFmodel.score(X_train, Y_train)\n",
    "RFmodel.score(X_test, Y_test)\n",
    "\n",
    "RFMSE = np.mean((Y_test - Y_test_pred)**2)\n",
    "RFMAE = np.mean(np.abs(Y_test - Y_test_pred))\n",
    "RFMAPE =  np.mean(np.abs(Y_test - Y_test_pred)/Y_test)\n",
    "print('RFMSE=', RFMSE)\n",
    "print('RFMAE=', RFMAE)\n",
    "print('RFMAPE=', RFMAPE)"
   ]
  },
  {
   "cell_type": "code",
   "execution_count": 18,
   "id": "b3358b79",
   "metadata": {},
   "outputs": [
    {
     "data": {
      "text/plain": [
       "[<matplotlib.lines.Line2D at 0x7fd0ab935ca0>]"
      ]
     },
     "execution_count": 18,
     "metadata": {},
     "output_type": "execute_result"
    },
    {
     "data": {
      "image/png": "[encoded data removed]",
      "text/plain": [
       "<Figure size 432x288 with 1 Axes>"
      ]
     },
     "metadata": {
      "needs_background": "light"
     },
     "output_type": "display_data"
    }
   ],
   "source": [
    "fig, ax = plt.subplots()\n",
    "x_45_degree_line=np.linspace(0, Y_test.max(), 100)\n",
    "x_45_degree_line=np.linspace(0, Y_test.max(), 100)\n",
    "ax.plot(x_45_degree_line, x_45_degree_line, '-r')\n",
    "ax.plot(Y_test, Y_test_pred, '.b')"
   ]
  },
  {
   "cell_type": "code",
   "execution_count": 19,
   "id": "c4ed6b9f",
   "metadata": {},
   "outputs": [
    {
     "name": "stdout",
     "output_type": "stream",
     "text": [
      "----  ------------------  ---------------------  ------------------  -------------------\n",
      "      KNNRegressor        LinearRegression       DecisionTree        RandomForest\n",
      "MSE   1427902412.5182247  8.834341349345797e+24  22817727283.544144  584689830.5908341\n",
      "MAE   22995.33351658515   1663652608646.125      128153.66125336647  10864.28582893662\n",
      "MAPE  0.129753451276978   11995678.048670484     0.6712766856373678  0.06217387332234633\n",
      "----  ------------------  ---------------------  ------------------  -------------------\n"
     ]
    }
   ],
   "source": [
    "from tabulate import tabulate\n",
    "table = [['', 'KNNRegressor', 'LinearRegression', 'DecisionTree', 'RandomForest'], \n",
    "         ['MSE', KNNMSE, LMMSE, DTMSE, RFMSE], \n",
    "         ['MAE', KNNMAE, LMMAE, DTMAE, RFMAE], \n",
    "         ['MAPE', KNNMAPE, LMMAPE, DTMAPE, RFMAPE]]\n",
    "\n",
    "print(tabulate(table))\n",
    "\n",
    "\n"
   ]
  },
  {
   "cell_type": "code",
   "execution_count": null,
   "id": "022a48c6",
   "metadata": {},
   "outputs": [],
   "source": []
  }
 ],
 "metadata": {
  "kernelspec": {
   "display_name": "Python 3 (ipykernel)",
   "language": "python",
   "name": "python3"
  },
  "language_info": {
   "codemirror_mode": {
    "name": "ipython",
    "version": 3
   },
   "file_extension": ".py",
   "mimetype": "text/x-python",
   "name": "python",
   "nbconvert_exporter": "python",
   "pygments_lexer": "ipython3",
   "version": "3.9.12"
  }
 },
 "nbformat": 4,
 "nbformat_minor": 5
}
