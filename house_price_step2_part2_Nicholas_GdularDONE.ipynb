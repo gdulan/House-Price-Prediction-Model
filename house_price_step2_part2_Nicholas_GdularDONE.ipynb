{
 "cells": [
  {
   "cell_type": "code",
   "execution_count": 127,
   "id": "8cd2b56c",
   "metadata": {},
   "outputs": [],
   "source": [
    "import numpy as np\n",
    "import matplotlib.pyplot as plt\n",
    "import pandas as pd\n",
    "from sklearn.model_selection import train_test_split\n",
    "from sklearn.preprocessing import MinMaxScaler"
   ]
  },
  {
   "cell_type": "code",
   "execution_count": 128,
   "id": "fa3b5581",
   "metadata": {},
   "outputs": [],
   "source": [
    "#LOAD DATA\n",
    "Test = pd.read_csv('housing_test_clean.csv')\n",
    "Train = pd.read_csv('housing_train_clean.csv')"
   ]
  },
  {
   "cell_type": "code",
   "execution_count": 129,
   "id": "b396d585",
   "metadata": {},
   "outputs": [],
   "source": [
    "X_train=Train.copy()\n",
    "X_train.drop(['SalePrice'], axis=1, inplace=True)\n",
    "Y_train=Train[['SalePrice']].copy()\n",
    "X_test=Test.copy()\n",
    "X_test.drop(['SalePrice'], axis=1, inplace=True)\n",
    "Y_test=Test[['SalePrice']].copy()"
   ]
  },
  {
   "cell_type": "code",
   "execution_count": null,
   "id": "eaeb5645",
   "metadata": {},
   "outputs": [],
   "source": []
  },
  {
   "cell_type": "code",
   "execution_count": 130,
   "id": "4dae22d7",
   "metadata": {},
   "outputs": [],
   "source": [
    "#CONVERT TO NUMPY\n",
    "X_train=X_train.values\n",
    "Y_train=Y_train.values.reshape(-1)\n",
    "X_test=X_test.values\n",
    "Y_test=Y_test.values.reshape(-1)"
   ]
  },
  {
   "cell_type": "code",
   "execution_count": 131,
   "id": "dbefb3d9",
   "metadata": {},
   "outputs": [],
   "source": [
    "scaler=MinMaxScaler()\n",
    "X_train_s = scaler.fit_transform(X_train)\n",
    "X_test_s = scaler.transform(X_test)"
   ]
  },
  {
   "cell_type": "code",
   "execution_count": 176,
   "id": "eafe4468",
   "metadata": {},
   "outputs": [
    {
     "data": {
      "text/plain": [
       "(1460, 275)"
      ]
     },
     "execution_count": 176,
     "metadata": {},
     "output_type": "execute_result"
    }
   ],
   "source": [
    "X_train_s.shape"
   ]
  },
  {
   "cell_type": "code",
   "execution_count": 133,
   "id": "af2e9a9c",
   "metadata": {},
   "outputs": [
    {
     "data": {
      "text/plain": [
       "1314.0"
      ]
     },
     "execution_count": 133,
     "metadata": {},
     "output_type": "execute_result"
    }
   ],
   "source": [
    "1460*.9"
   ]
  },
  {
   "cell_type": "code",
   "execution_count": 134,
   "id": "eed38e7a",
   "metadata": {},
   "outputs": [],
   "source": [
    "X_train=X_train_s\n",
    "X_test=X_test_s"
   ]
  },
  {
   "cell_type": "code",
   "execution_count": 135,
   "id": "f0a4bf76",
   "metadata": {},
   "outputs": [],
   "source": [
    "idx_list=np.arange(0, X_train.shape[0])\n",
    "train_idx=idx_list[0:1314]\n",
    "val_idx=idx_list[1314:]"
   ]
  },
  {
   "cell_type": "code",
   "execution_count": 136,
   "id": "b8a76a35",
   "metadata": {},
   "outputs": [],
   "source": [
    "X_val=X_train[val_idx]\n",
    "Y_val=Y_train[val_idx]\n",
    "X_train=X_train[train_idx]\n",
    "Y_train=Y_train[train_idx]"
   ]
  },
  {
   "cell_type": "code",
   "execution_count": 137,
   "id": "96f55a89",
   "metadata": {},
   "outputs": [
    {
     "data": {
      "text/plain": [
       "array([[0.11977972, 0.41355932, 0.        , ..., 0.94927536, 0.88333333,\n",
       "        0.5       ],\n",
       "       [0.21294172, 0.        , 0.        , ..., 0.75362319, 0.43333333,\n",
       "        0.25      ],\n",
       "       [0.13446535, 0.41937046, 0.        , ..., 0.93478261, 0.86666667,\n",
       "        0.5       ],\n",
       "       ...,\n",
       "       [0.21569527, 0.        , 0.        , ..., 0.96376812, 0.95      ,\n",
       "        0.25      ],\n",
       "       [0.25676916, 0.65714286, 0.        , ..., 0.85507246, 0.66666667,\n",
       "        0.25      ],\n",
       "       [0.24965581, 0.56997579, 0.        , ..., 0.92028986, 0.81666667,\n",
       "        1.        ]])"
      ]
     },
     "execution_count": 137,
     "metadata": {},
     "output_type": "execute_result"
    }
   ],
   "source": [
    "X_train"
   ]
  },
  {
   "cell_type": "code",
   "execution_count": 138,
   "id": "ede6df68",
   "metadata": {},
   "outputs": [
    {
     "data": {
      "text/plain": [
       "(1314, 275)"
      ]
     },
     "execution_count": 138,
     "metadata": {},
     "output_type": "execute_result"
    }
   ],
   "source": [
    "X_train.shape"
   ]
  },
  {
   "cell_type": "code",
   "execution_count": 139,
   "id": "df22bf8d",
   "metadata": {},
   "outputs": [
    {
     "data": {
      "text/plain": [
       "(1314,)"
      ]
     },
     "execution_count": 139,
     "metadata": {},
     "output_type": "execute_result"
    }
   ],
   "source": [
    "Y_train.shape"
   ]
  },
  {
   "cell_type": "code",
   "execution_count": 140,
   "id": "d989efe0",
   "metadata": {},
   "outputs": [
    {
     "data": {
      "text/plain": [
       "(146, 275)"
      ]
     },
     "execution_count": 140,
     "metadata": {},
     "output_type": "execute_result"
    }
   ],
   "source": [
    "X_val.shape"
   ]
  },
  {
   "cell_type": "code",
   "execution_count": 141,
   "id": "d5bda672",
   "metadata": {},
   "outputs": [
    {
     "data": {
      "text/plain": [
       "(146,)"
      ]
     },
     "execution_count": 141,
     "metadata": {},
     "output_type": "execute_result"
    }
   ],
   "source": [
    "Y_val.shape"
   ]
  },
  {
   "cell_type": "code",
   "execution_count": 142,
   "id": "c6300c75",
   "metadata": {},
   "outputs": [
    {
     "data": {
      "text/plain": [
       "(1459, 275)"
      ]
     },
     "execution_count": 142,
     "metadata": {},
     "output_type": "execute_result"
    }
   ],
   "source": [
    "X_test.shape"
   ]
  },
  {
   "cell_type": "code",
   "execution_count": 143,
   "id": "cfb23c4b",
   "metadata": {},
   "outputs": [
    {
     "data": {
      "text/plain": [
       "(1459,)"
      ]
     },
     "execution_count": 143,
     "metadata": {},
     "output_type": "execute_result"
    }
   ],
   "source": [
    "Y_test.shape"
   ]
  },
  {
   "cell_type": "code",
   "execution_count": 144,
   "id": "f1fbf17a",
   "metadata": {},
   "outputs": [],
   "source": [
    "#KNN\n",
    "from sklearn.neighbors import KNeighborsRegressor"
   ]
  },
  {
   "cell_type": "code",
   "execution_count": 145,
   "id": "d73707b0",
   "metadata": {},
   "outputs": [],
   "source": [
    "n_list=np.arange(1, 100, 10)"
   ]
  },
  {
   "cell_type": "code",
   "execution_count": 146,
   "id": "58e97c3b",
   "metadata": {},
   "outputs": [],
   "source": [
    "mse_train_list=[]\n",
    "mse_val_list=[]\n",
    "KNNmodel_list=[]\n",
    "for n in n_list:\n",
    "    KNNmodel=KNeighborsRegressor(n_neighbors=n)\n",
    "    KNNmodel.fit(X_train, Y_train)\n",
    "    KNNmodel_list.append(model)\n",
    "    Y_train_pred = KNNmodel.predict(X_train)\n",
    "    mse_train=np.mean((Y_train_pred-Y_train)**2)\n",
    "    mse_train_list.append(mse_train)\n",
    "    #mse_val is the mse on the validation set\n",
    "    Y_val_pred = KNNmodel.predict(X_val)\n",
    "    mse_val=np.mean((Y_val_pred-Y_val)**2)\n",
    "    mse_val_list.append(mse_val)"
   ]
  },
  {
   "cell_type": "code",
   "execution_count": 147,
   "id": "d9b67035",
   "metadata": {},
   "outputs": [
    {
     "data": {
      "text/plain": [
       "array([0.00000000e+00, 1.53197695e+09, 1.77581810e+09, 1.92715980e+09,\n",
       "       2.01965614e+09, 2.12728723e+09, 2.20750773e+09, 2.28446038e+09,\n",
       "       2.35848393e+09, 2.43143340e+09])"
      ]
     },
     "execution_count": 147,
     "metadata": {},
     "output_type": "execute_result"
    }
   ],
   "source": [
    "np.array(mse_train_list)"
   ]
  },
  {
   "cell_type": "code",
   "execution_count": 148,
   "id": "1929509d",
   "metadata": {},
   "outputs": [
    {
     "data": {
      "text/plain": [
       "array([1.82978271e+09, 1.32082314e+09, 1.41433318e+09, 1.46433351e+09,\n",
       "       1.52639002e+09, 1.65402957e+09, 1.72685649e+09, 1.77411908e+09,\n",
       "       1.81875027e+09, 1.87139193e+09])"
      ]
     },
     "execution_count": 148,
     "metadata": {},
     "output_type": "execute_result"
    }
   ],
   "source": [
    "np.array(mse_val_list)"
   ]
  },
  {
   "cell_type": "code",
   "execution_count": 149,
   "id": "64994213",
   "metadata": {},
   "outputs": [
    {
     "data": {
      "text/plain": [
       "Text(0.5, 1.0, 'val mse vs n')"
      ]
     },
     "execution_count": 149,
     "metadata": {},
     "output_type": "execute_result"
    },
    {
     "data": {
      "image/png": "[encoded data removed]",
      "text/plain": [
       "<Figure size 432x288 with 2 Axes>"
      ]
     },
     "metadata": {
      "needs_background": "light"
     },
     "output_type": "display_data"
    }
   ],
   "source": [
    "import matplotlib.pyplot as plt\n",
    "fig, ax = plt.subplots(1,2, constrained_layout =True)\n",
    "ax[0].plot(n_list, mse_train_list)\n",
    "ax[0].set_title('train mse vs n')\n",
    "ax[0].set_xlabel('n', fontsize=16)\n",
    "ax[0].set_ylabel('mse', fontsize=16)\n",
    "ax[1].plot(n_list, mse_val_list)\n",
    "ax[1].set_title('val mse vs n')"
   ]
  },
  {
   "cell_type": "code",
   "execution_count": 150,
   "id": "3a588855",
   "metadata": {},
   "outputs": [
    {
     "data": {
      "text/plain": [
       "11"
      ]
     },
     "execution_count": 150,
     "metadata": {},
     "output_type": "execute_result"
    }
   ],
   "source": [
    "n_best=n_list[np.argmin(mse_val_list)]\n",
    "n_best"
   ]
  },
  {
   "cell_type": "code",
   "execution_count": 151,
   "id": "1912cb11",
   "metadata": {},
   "outputs": [
    {
     "data": {
      "text/plain": [
       "KNeighborsRegressor(n_neighbors=11)"
      ]
     },
     "execution_count": 151,
     "metadata": {},
     "output_type": "execute_result"
    }
   ],
   "source": [
    "KNNmodel= KNeighborsRegressor(n_neighbors = 11)\n",
    "KNNmodel"
   ]
  },
  {
   "cell_type": "code",
   "execution_count": 152,
   "id": "375bdd18",
   "metadata": {},
   "outputs": [
    {
     "data": {
      "text/plain": [
       "1531976945.446501"
      ]
     },
     "execution_count": 152,
     "metadata": {},
     "output_type": "execute_result"
    }
   ],
   "source": [
    "KNNmodel.fit(X_train, Y_train)\n",
    "Y_train_pred = KNNmodel.predict(X_train)\n",
    "mse_train=np.mean((Y_train_pred-Y_train)**2)\n",
    "mse_train"
   ]
  },
  {
   "cell_type": "code",
   "execution_count": 153,
   "id": "e43d397a",
   "metadata": {},
   "outputs": [
    {
     "data": {
      "text/plain": [
       "1320823140.3141062"
      ]
     },
     "execution_count": 153,
     "metadata": {},
     "output_type": "execute_result"
    }
   ],
   "source": [
    "Y_val_pred = KNNmodel.predict(X_val)\n",
    "mse_val=np.mean((Y_val_pred-Y_val)**2)\n",
    "mse_val"
   ]
  },
  {
   "cell_type": "code",
   "execution_count": 154,
   "id": "e7aa714a",
   "metadata": {},
   "outputs": [
    {
     "data": {
      "text/plain": [
       "1405471691.936228"
      ]
     },
     "execution_count": 154,
     "metadata": {},
     "output_type": "execute_result"
    }
   ],
   "source": [
    "Y_test_pred = KNNmodel.predict(X_test)\n",
    "mse_test=np.mean((Y_test_pred-Y_test)**2)\n",
    "mse_test"
   ]
  },
  {
   "cell_type": "code",
   "execution_count": 155,
   "id": "d8fae4bd",
   "metadata": {},
   "outputs": [
    {
     "data": {
      "text/plain": [
       "[<matplotlib.lines.Line2D at 0x7fd5ae600940>]"
      ]
     },
     "execution_count": 155,
     "metadata": {},
     "output_type": "execute_result"
    },
    {
     "data": {
      "image/png": "[encoded data removed]",
      "text/plain": [
       "<Figure size 432x288 with 1 Axes>"
      ]
     },
     "metadata": {
      "needs_background": "light"
     },
     "output_type": "display_data"
    }
   ],
   "source": [
    "fig, ax = plt.subplots()\n",
    "ax.plot(Y_test, Y_test_pred, '.b')\n",
    "#the 45-degree line\n",
    "ax.plot(Y_test, Y_test, '-r')"
   ]
  },
  {
   "cell_type": "code",
   "execution_count": 156,
   "id": "49840083",
   "metadata": {},
   "outputs": [
    {
     "name": "stdout",
     "output_type": "stream",
     "text": [
      "KNNMSE= 1405471691.936228\n",
      "KNNMAE= 22979.739413903488\n",
      "KNNMAPE= 0.13049181591544137\n"
     ]
    }
   ],
   "source": [
    "KNNMSE = np.mean((Y_test - Y_test_pred)**2)\n",
    "KNNMAE = np.mean(np.abs(Y_test - Y_test_pred))\n",
    "KNNMAPE =  np.mean(np.abs(Y_test - Y_test_pred)/Y_test)\n",
    "print('KNNMSE=', KNNMSE)\n",
    "print('KNNMAE=', KNNMAE)\n",
    "print('KNNMAPE=', KNNMAPE)"
   ]
  },
  {
   "cell_type": "code",
   "execution_count": 157,
   "id": "2fea66f6",
   "metadata": {},
   "outputs": [],
   "source": [
    "#DECISIONTREE \n",
    "from sklearn.tree import DecisionTreeRegressor"
   ]
  },
  {
   "cell_type": "code",
   "execution_count": 158,
   "id": "a59c4152",
   "metadata": {},
   "outputs": [
    {
     "data": {
      "text/plain": [
       "array([ 1, 11, 21, 31, 41, 51, 61, 71, 81, 91])"
      ]
     },
     "execution_count": 158,
     "metadata": {},
     "output_type": "execute_result"
    }
   ],
   "source": [
    "max_depth_list=np.arange(1, 100, 10)\n",
    "max_depth_list"
   ]
  },
  {
   "cell_type": "code",
   "execution_count": 159,
   "id": "767012c8",
   "metadata": {},
   "outputs": [
    {
     "name": "stdout",
     "output_type": "stream",
     "text": [
      "max_depth 1 acc_val 0.39668647189914785\n",
      "max_depth 11 acc_val 0.7742664692753441\n",
      "max_depth 21 acc_val 0.7272055160970081\n",
      "max_depth 31 acc_val 0.7426430527742298\n",
      "max_depth 41 acc_val 0.7426430527742298\n",
      "max_depth 51 acc_val 0.7426430527742298\n",
      "max_depth 61 acc_val 0.7426430527742298\n",
      "max_depth 71 acc_val 0.7426430527742298\n",
      "max_depth 81 acc_val 0.7426430527742298\n",
      "max_depth 91 acc_val 0.7426430527742298\n"
     ]
    }
   ],
   "source": [
    "acc_train_list=[]\n",
    "acc_val_list=[]\n",
    "for max_depth in max_depth_list:\n",
    "    Treemodel = DecisionTreeRegressor(max_depth=max_depth, random_state=0)\n",
    "    Treemodel.fit(X_train, Y_train)\n",
    "    acc_train=Treemodel.score(X_train, Y_train)\n",
    "    acc_train_list.append(acc_train)\n",
    "    acc_val=Treemodel.score(X_val, Y_val)\n",
    "    acc_val_list.append(acc_val)\n",
    "    print(\"max_depth\", max_depth, \"acc_val\", acc_val)"
   ]
  },
  {
   "cell_type": "code",
   "execution_count": 160,
   "id": "9fdd49b0",
   "metadata": {},
   "outputs": [
    {
     "data": {
      "text/plain": [
       "Text(0, 0.5, 'acc_val')"
      ]
     },
     "execution_count": 160,
     "metadata": {},
     "output_type": "execute_result"
    },
    {
     "data": {
      "image/png": "[encoded data removed]",
      "text/plain": [
       "<Figure size 432x288 with 1 Axes>"
      ]
     },
     "metadata": {
      "needs_background": "light"
     },
     "output_type": "display_data"
    }
   ],
   "source": [
    "plt.plot(max_depth_list, acc_val_list, '-r')\n",
    "plt.title('max_depth vs acc_val')\n",
    "plt.xlabel('max_depth')\n",
    "plt.ylabel('acc_val')"
   ]
  },
  {
   "cell_type": "code",
   "execution_count": 161,
   "id": "ac48aebc",
   "metadata": {},
   "outputs": [],
   "source": [
    "max_depth_best=11"
   ]
  },
  {
   "cell_type": "code",
   "execution_count": 162,
   "id": "ee83acd7",
   "metadata": {},
   "outputs": [
    {
     "data": {
      "text/plain": [
       "DecisionTreeRegressor(max_depth=11, random_state=0)"
      ]
     },
     "execution_count": 162,
     "metadata": {},
     "output_type": "execute_result"
    }
   ],
   "source": [
    "Treemodel = DecisionTreeRegressor(max_depth=max_depth_best, random_state=0)\n",
    "Treemodel.fit(X_train, Y_train)"
   ]
  },
  {
   "cell_type": "code",
   "execution_count": 163,
   "id": "c41992cf",
   "metadata": {},
   "outputs": [],
   "source": [
    "Treemodel.score(X_train, Y_train)\n",
    "Treemodel.score(X_test, Y_test)\n",
    "Y_test_pred = Treemodel.predict(X_test)"
   ]
  },
  {
   "cell_type": "code",
   "execution_count": 164,
   "id": "846fdb7f",
   "metadata": {},
   "outputs": [
    {
     "name": "stdout",
     "output_type": "stream",
     "text": [
      "DTMSE= 1495230768.9417543\n",
      "DTMAE= 20391.174190439957\n",
      "DTMAPE= 0.11594535755075622\n"
     ]
    }
   ],
   "source": [
    "DTMSE = np.mean((Y_test - Y_test_pred)**2)\n",
    "DTMAE = np.mean(np.abs(Y_test - Y_test_pred))\n",
    "DTMAPE =  np.mean(np.abs(Y_test - Y_test_pred)/Y_test)\n",
    "print('DTMSE=', DTMSE)\n",
    "print('DTMAE=', DTMAE)\n",
    "print('DTMAPE=', DTMAPE)"
   ]
  },
  {
   "cell_type": "code",
   "execution_count": 165,
   "id": "4d1e7aa1",
   "metadata": {},
   "outputs": [
    {
     "data": {
      "text/plain": [
       "[<matplotlib.lines.Line2D at 0x7fd5af62e160>]"
      ]
     },
     "execution_count": 165,
     "metadata": {},
     "output_type": "execute_result"
    },
    {
     "data": {
      "image/png": "[encoded data removed]",
      "text/plain": [
       "<Figure size 432x288 with 1 Axes>"
      ]
     },
     "metadata": {
      "needs_background": "light"
     },
     "output_type": "display_data"
    }
   ],
   "source": [
    "fig, ax = plt.subplots()\n",
    "x_45_degree_line=np.linspace(0, Y_test.max(), 100)\n",
    "x_45_degree_line=np.linspace(0, Y_test.max(), 100)\n",
    "ax.plot(x_45_degree_line, x_45_degree_line, '-r')\n",
    "ax.plot(Y_test, Y_test_pred, '.b')"
   ]
  },
  {
   "cell_type": "code",
   "execution_count": 166,
   "id": "7fd87a36",
   "metadata": {},
   "outputs": [],
   "source": [
    "#RANDOMFOREST\n",
    "from sklearn.ensemble import RandomForestRegressor"
   ]
  },
  {
   "cell_type": "code",
   "execution_count": 167,
   "id": "e2b8463e",
   "metadata": {},
   "outputs": [
    {
     "data": {
      "text/plain": [
       "array([ 1, 11, 21, 31, 41, 51, 61, 71, 81, 91])"
      ]
     },
     "execution_count": 167,
     "metadata": {},
     "output_type": "execute_result"
    }
   ],
   "source": [
    "max_depth_list=np.arange(1, 100, 10)\n",
    "max_depth_list"
   ]
  },
  {
   "cell_type": "code",
   "execution_count": 168,
   "id": "005633bb",
   "metadata": {},
   "outputs": [
    {
     "name": "stdout",
     "output_type": "stream",
     "text": [
      "max_depth 1 acc_val 0.45441861058633026\n",
      "max_depth 11 acc_val 0.8657918172093493\n",
      "max_depth 21 acc_val 0.8628188826820211\n",
      "max_depth 31 acc_val 0.8629815298339747\n",
      "max_depth 41 acc_val 0.8629815298339747\n",
      "max_depth 51 acc_val 0.8629815298339747\n",
      "max_depth 61 acc_val 0.8629815298339747\n",
      "max_depth 71 acc_val 0.8629815298339747\n",
      "max_depth 81 acc_val 0.8629815298339747\n",
      "max_depth 91 acc_val 0.8629815298339747\n"
     ]
    }
   ],
   "source": [
    "acc_train_list=[]\n",
    "acc_val_list=[]\n",
    "for max_depth in max_depth_list:\n",
    "    RFmodel = RandomForestRegressor(n_estimators=100, max_samples=0.8, max_depth=max_depth, random_state=0)\n",
    "    RFmodel.fit(X_train, Y_train)\n",
    "    acc_train=RFmodel.score(X_train, Y_train)\n",
    "    acc_train_list.append(acc_train)\n",
    "    acc_val=RFmodel.score(X_val, Y_val)\n",
    "    acc_val_list.append(acc_val)\n",
    "    print(\"max_depth\", max_depth, \"acc_val\", acc_val)\n"
   ]
  },
  {
   "cell_type": "code",
   "execution_count": 169,
   "id": "cf8028ff",
   "metadata": {},
   "outputs": [
    {
     "data": {
      "text/plain": [
       "Text(0, 0.5, 'acc_val')"
      ]
     },
     "execution_count": 169,
     "metadata": {},
     "output_type": "execute_result"
    },
    {
     "data": {
      "image/png": "[encoded data removed]",
      "text/plain": [
       "<Figure size 432x288 with 1 Axes>"
      ]
     },
     "metadata": {
      "needs_background": "light"
     },
     "output_type": "display_data"
    }
   ],
   "source": [
    "plt.plot(max_depth_list, acc_val_list, '-r')\n",
    "plt.title('max_depth vs acc_val')\n",
    "plt.xlabel('max_depth')\n",
    "plt.ylabel('acc_val')"
   ]
  },
  {
   "cell_type": "code",
   "execution_count": 170,
   "id": "47bd4e65",
   "metadata": {},
   "outputs": [],
   "source": [
    "max_depth_best=11"
   ]
  },
  {
   "cell_type": "code",
   "execution_count": 171,
   "id": "06f18ee3",
   "metadata": {},
   "outputs": [
    {
     "data": {
      "text/plain": [
       "RandomForestRegressor(max_depth=11, max_samples=0.8, random_state=0)"
      ]
     },
     "execution_count": 171,
     "metadata": {},
     "output_type": "execute_result"
    }
   ],
   "source": [
    "RFmodel = RandomForestRegressor(n_estimators=100, max_samples=0.8, max_depth=max_depth_best, random_state=0)\n",
    "RFmodel.fit(X_train, Y_train)"
   ]
  },
  {
   "cell_type": "code",
   "execution_count": 172,
   "id": "33bdb1b3",
   "metadata": {},
   "outputs": [],
   "source": [
    "RFmodel.score(X_train, Y_train)\n",
    "RFmodel.score(X_test, Y_test)\n",
    "Y_test_pred = RFmodel.predict(X_test)"
   ]
  },
  {
   "cell_type": "code",
   "execution_count": 173,
   "id": "131fef71",
   "metadata": {},
   "outputs": [
    {
     "name": "stdout",
     "output_type": "stream",
     "text": [
      "RFMSE= 595391909.2720538\n",
      "RFMAE= 11217.15077625859\n",
      "RFMAPE= 0.06485301218025818\n"
     ]
    }
   ],
   "source": [
    "RFMSE = np.mean((Y_test - Y_test_pred)**2)\n",
    "RFMAE = np.mean(np.abs(Y_test - Y_test_pred))\n",
    "RFMAPE =  np.mean(np.abs(Y_test - Y_test_pred)/Y_test)\n",
    "print('RFMSE=', RFMSE)\n",
    "print('RFMAE=', RFMAE)\n",
    "print('RFMAPE=', RFMAPE)"
   ]
  },
  {
   "cell_type": "code",
   "execution_count": 179,
   "id": "b3358b79",
   "metadata": {},
   "outputs": [
    {
     "data": {
      "text/plain": [
       "[<matplotlib.lines.Line2D at 0x7fd5b1bea2e0>]"
      ]
     },
     "execution_count": 179,
     "metadata": {},
     "output_type": "execute_result"
    },
    {
     "data": {
      "image/png": "[encoded data removed]",
      "text/plain": [
       "<Figure size 432x288 with 1 Axes>"
      ]
     },
     "metadata": {
      "needs_background": "light"
     },
     "output_type": "display_data"
    }
   ],
   "source": [
    "fig, ax = plt.subplots()\n",
    "x_45_degree_line=np.linspace(0, Y_test.max(), 100)\n",
    "x_45_degree_line=np.linspace(0, Y_test.max(), 100)\n",
    "ax.plot(x_45_degree_line, x_45_degree_line, '-r')\n",
    "ax.plot(Y_test, Y_test_pred, '.b')"
   ]
  },
  {
   "cell_type": "code",
   "execution_count": 180,
   "id": "c4ed6b9f",
   "metadata": {},
   "outputs": [
    {
     "name": "stdout",
     "output_type": "stream",
     "text": [
      "----  -------------------  -------------------  -------------------\n",
      "      KNNRegressor         DecisionTree         RandomForest\n",
      "MSE   1405471691.936228    1495230768.9417543   595391909.2720538\n",
      "MAE   22979.739413903488   20391.174190439957   11217.15077625859\n",
      "MAPE  0.13049181591544137  0.11594535755075622  0.06485301218025818\n",
      "----  -------------------  -------------------  -------------------\n"
     ]
    }
   ],
   "source": [
    "from tabulate import tabulate\n",
    "table = [['', 'KNNRegressor', 'DecisionTree', 'RandomForest'], \n",
    "         ['MSE', KNNMSE, DTMSE, RFMSE], \n",
    "         ['MAE', KNNMAE, DTMAE, RFMAE], \n",
    "         ['MAPE', KNNMAPE, DTMAPE, RFMAPE]]\n",
    "\n",
    "print(tabulate(table))"
   ]
  }
 ],
 "metadata": {
  "kernelspec": {
   "display_name": "Python 3 (ipykernel)",
   "language": "python",
   "name": "python3"
  },
  "language_info": {
   "codemirror_mode": {
    "name": "ipython",
    "version": 3
   },
   "file_extension": ".py",
   "mimetype": "text/x-python",
   "name": "python",
   "nbconvert_exporter": "python",
   "pygments_lexer": "ipython3",
   "version": "3.9.12"
  }
 },
 "nbformat": 4,
 "nbformat_minor": 5
}
